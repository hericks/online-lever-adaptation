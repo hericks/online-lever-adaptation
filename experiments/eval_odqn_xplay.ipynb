{
 "cells": [
  {
   "cell_type": "code",
   "execution_count": 1,
   "metadata": {},
   "outputs": [],
   "source": [
    "import sys\n",
    "import os\n",
    "sys.path.insert(1, os.path.join(sys.path[0], '..'))\n",
    "\n",
    "import random\n",
    "from typing import List, Tuple\n",
    "from itertools import combinations\n",
    "from copy import deepcopy\n",
    "\n",
    "import torch\n",
    "import torch.nn as nn\n",
    "\n",
    "import matplotlib.pyplot as plt\n",
    "\n",
    "from levers import IteratedLeverEnvironment\n",
    "from levers.learner import HistoryShaper, DQNAgent, Transition\n",
    "from levers.helpers import generate_binary_patterns"
   ]
  },
  {
   "cell_type": "code",
   "execution_count": 2,
   "metadata": {},
   "outputs": [],
   "source": [
    "# Experiment settings\n",
    "n_eval_mc = 10\n",
    "n_train_mc = 3\n",
    "n_agents = 20\n",
    "\n",
    "# Final results table\n",
    "scores = torch.zeros((n_agents, n_agents, n_eval_mc))\n",
    "greedy_scores = torch.zeros_like(scores)"
   ]
  },
  {
   "cell_type": "code",
   "execution_count": 3,
   "metadata": {},
   "outputs": [],
   "source": [
    "def eval_oql_xplay(\n",
    "    a1_train_partners: Tuple[int],\n",
    "    a1_train_id: int, \n",
    "    a2_train_partners: Tuple[int],\n",
    "    a2_train_id: int,\n",
    "):\n",
    "    # Environment parameters\n",
    "    payoffs = [1., 1.]\n",
    "    n_iterations = 100\n",
    "\n",
    "    # Initialize environment without lever game partner\n",
    "    env = IteratedLeverEnvironment(\n",
    "        payoffs,\n",
    "        n_iterations+1, \n",
    "        include_payoffs=False,\n",
    "        include_step=False\n",
    "    )\n",
    "\n",
    "    # Initialize history shaper with LSTM net\n",
    "    hs_output_size=4\n",
    "    hs1 = HistoryShaper(\n",
    "        hs_net=nn.LSTM(input_size=len(env.dummy_obs()[0,]), hidden_size=hs_output_size)\n",
    "    )\n",
    "    hs2 = deepcopy(hs1)\n",
    "\n",
    "    # Initialize DQN agent\n",
    "    l1 = DQNAgent(\n",
    "        q_net=nn.Sequential(\n",
    "            nn.Linear(hs_output_size, 4),\n",
    "            nn.ReLU(),\n",
    "            nn.Linear(4, env.n_actions())\n",
    "        ),\n",
    "        capacity=16,\n",
    "        batch_size=8,\n",
    "        lr=0.01\n",
    "    )\n",
    "    l2 = deepcopy(l1)\n",
    "\n",
    "    # Load the models\n",
    "    models_dir = 'online_qlearner_length3/data'\n",
    "\n",
    "    model_name1 = f'-net-pattern={a1_train_partners}-eval_id={a1_train_id:02d}.pt'\n",
    "    hs1.net.load_state_dict(torch.load(os.path.join(models_dir, 'hs' + model_name1)))\n",
    "    l1.q_net.load_state_dict(torch.load(os.path.join(models_dir, 'q' + model_name1)))\n",
    "    l1.reset()\n",
    "\n",
    "    model_name2 = f'-net-pattern={a2_train_partners}-eval_id={a2_train_id:02d}.pt'\n",
    "    hs2.net.load_state_dict(torch.load(os.path.join(models_dir, 'hs' + model_name2)))\n",
    "    l2.q_net.load_state_dict(torch.load(os.path.join(models_dir, 'q' + model_name2)))\n",
    "    l2.reset()\n",
    "\n",
    "    # Reset environment\n",
    "    joint_obs = env.reset()\n",
    "\n",
    "    obs1 = joint_obs[0,]\n",
    "    obs_rep1, hidden1 = hs1.net(obs1.unsqueeze(0))\n",
    "\n",
    "    obs2 = joint_obs[1,]\n",
    "    obs_rep2, hidden2 = hs2.net(obs2.unsqueeze(0))\n",
    "\n",
    "    # \n",
    "    ret = 0\n",
    "\n",
    "    # Step through environment\n",
    "    for step in range(n_iterations):\n",
    "        # Obtain action from learners\n",
    "        epsilon = 0.2 * max(0, 1 - 4 * step / n_iterations)\n",
    "        action1, _ = l1.act(obs_rep1.squeeze(0), epsilon=epsilon)\n",
    "        action2, _ = l2.act(obs_rep2.squeeze(0), epsilon=epsilon)\n",
    "\n",
    "        # Take step in environment\n",
    "        joint_next_obs, reward, done = env.step([action1, action2])\n",
    "        next_obs1 = joint_next_obs[0]\n",
    "        next_obs2 = joint_next_obs[1]\n",
    "\n",
    "        # Compute history representation\n",
    "        next_obs_rep1, next_hidden1 = hs1.net(next_obs1.unsqueeze(0), hidden1)\n",
    "        next_obs_rep2, next_hidden2 = hs2.net(next_obs2.unsqueeze(0), hidden2)\n",
    "\n",
    "        # Give experience to learner and train\n",
    "        l1.update_memory(\n",
    "            Transition(\n",
    "                obs_rep1.squeeze(0).detach(),\n",
    "                action1, \n",
    "                next_obs_rep1.squeeze(0).detach(), \n",
    "                reward, done\n",
    "            )\n",
    "        )\n",
    "        l1.train(done)\n",
    "        l2.update_memory(\n",
    "            Transition(\n",
    "                obs_rep2.squeeze(0).detach(),\n",
    "                action2, \n",
    "                next_obs_rep2.squeeze(0).detach(), \n",
    "                reward, done\n",
    "            )\n",
    "        )\n",
    "        l2.train(done)\n",
    "\n",
    "        # Update next observation -> observation\n",
    "        obs_rep1 = next_obs_rep1\n",
    "        obs_rep2 = next_obs_rep2\n",
    "        hidden1 = next_hidden1\n",
    "        hidden2 = next_hidden2\n",
    "\n",
    "        #\n",
    "        ret += reward\n",
    "        \n",
    "    return ret / 100"
   ]
  },
  {
   "cell_type": "code",
   "execution_count": 4,
   "metadata": {},
   "outputs": [
    {
     "name": "stdout",
     "output_type": "stream",
     "text": [
      "Evaluating OQL  0 against OQL 0 1 2 3 4 5 6 7 8 9 10 11 12 13 14 15 16 17 18 19.\n",
      "Evaluating OQL  1 against OQL 0 1 2 3 4 5 6 7 8 9 10 11 12 13 14 15 16 17 18 19.\n",
      "Evaluating OQL  2 against OQL 0 1 2 3 4 5 6 7 8 9 10 11 12 13 14 15 16 17 18 19.\n",
      "Evaluating OQL  3 against OQL 0 1 2 3 4 5 6 7 8 9 10 11 12 13 14 15 16 17 18 19.\n",
      "Evaluating OQL  4 against OQL 0 1 2 3 4 5 6 7 8 9 10 11 12 13 14 15 16 17 18 19.\n",
      "Evaluating OQL  5 against OQL 0 1 2 3 4 5 6 7 8 9 10 11 12 13 14 15 16 17 18 19.\n",
      "Evaluating OQL  6 against OQL 0 1 2 3 4 5 6 7 8 9 10 11 12 13 14 15 16 17 18 19.\n",
      "Evaluating OQL  7 against OQL 0 1 2 3 4 5 6 7 8 9 10 11 12 13 14 15 16 17 18 19.\n",
      "Evaluating OQL  8 against OQL 0 1 2 3 4 5 6 7 8 9 10 11 12 13 14 15 16 17 18 19.\n",
      "Evaluating OQL  9 against OQL 0 1 2 3 4 5 6 7 8 9 10 11 12 13 14 15 16 17 18 19.\n",
      "Evaluating OQL 10 against OQL 0 1 2 3 4 5 6 7 8 9 10 11 12 13 14 15 16 17 18 19.\n",
      "Evaluating OQL 11 against OQL 0 1 2 3 4 5 6 7 8 9 10 11 12 13 14 15 16 17 18 19.\n",
      "Evaluating OQL 12 against OQL 0 1 2 3 4 5 6 7 8 9 10 11 12 13 14 15 16 17 18 19.\n",
      "Evaluating OQL 13 against OQL 0 1 2 3 4 5 6 7 8 9 10 11 12 13 14 15 16 17 18 19.\n",
      "Evaluating OQL 14 against OQL 0 1 2 3 4 5 6 7 8 9 10 11 12 13 14 15 16 17 18 19.\n",
      "Evaluating OQL 15 against OQL 0 1 2 3 4 5 6 7 8 9 10 11 12 13 14 15 16 17 18 19.\n",
      "Evaluating OQL 16 against OQL 0 1 2 3 4 5 6 7 8 9 10 11 12 13 14 15 16 17 18 19.\n",
      "Evaluating OQL 17 against OQL 0 1 2 3 4 5 6 7 8 9 10 11 12 13 14 15 16 17 18 19.\n",
      "Evaluating OQL 18 against OQL 0 1 2 3 4 5 6 7 8 9 10 11 12 13 14 15 16 17 18 19.\n",
      "Evaluating OQL 19 against OQL 0 1 2 3 4 5 6 7 8 9 10 11 12 13 14 15 16 17 18 19.\n"
     ]
    }
   ],
   "source": [
    "patterns = generate_binary_patterns(3)\n",
    "\n",
    "train_partners = random.sample(list(combinations(patterns, 4)), n_agents)\n",
    "train_eval = random.choices(range(n_train_mc), k=n_agents)\n",
    "\n",
    "for a1_idx in range(n_agents):\n",
    "    print(f'Evaluating OQL {a1_idx:2d} against OQL ', end='')\n",
    "    for a2_idx in range(n_agents):\n",
    "        end = '.\\n' if a2_idx == n_agents - 1 else ' '\n",
    "        print(f'{a2_idx}', end=end)\n",
    "        for eval_id in range(n_eval_mc):\n",
    "            scores[a1_idx, a2_idx, eval_id] = eval_oql_xplay(\n",
    "                a1_train_partners=train_partners[a1_idx],\n",
    "                a1_train_id=train_eval[a1_idx],\n",
    "                a2_train_partners=train_partners[a2_idx],\n",
    "                a2_train_id=train_eval[a2_idx],\n",
    "            )"
   ]
  },
  {
   "cell_type": "code",
   "execution_count": 5,
   "metadata": {},
   "outputs": [
    {
     "data": {
      "text/plain": [
       "[((0, 0, 0), (0, 0, 1), (1, 0, 1), (1, 1, 1)),\n",
       " ((0, 1, 0), (0, 1, 1), (1, 0, 1), (1, 1, 1)),\n",
       " ((0, 0, 0), (1, 0, 0), (1, 1, 0), (1, 1, 1)),\n",
       " ((0, 1, 0), (0, 1, 1), (1, 0, 0), (1, 0, 1)),\n",
       " ((0, 0, 1), (0, 1, 1), (1, 0, 0), (1, 1, 0)),\n",
       " ((0, 0, 0), (1, 0, 0), (1, 0, 1), (1, 1, 1)),\n",
       " ((0, 0, 0), (0, 0, 1), (0, 1, 0), (0, 1, 1)),\n",
       " ((0, 0, 1), (0, 1, 1), (1, 0, 0), (1, 1, 1)),\n",
       " ((0, 0, 1), (0, 1, 0), (0, 1, 1), (1, 0, 0)),\n",
       " ((0, 1, 0), (1, 0, 0), (1, 1, 0), (1, 1, 1)),\n",
       " ((0, 0, 0), (0, 1, 0), (1, 0, 0), (1, 1, 1)),\n",
       " ((0, 1, 0), (1, 0, 0), (1, 0, 1), (1, 1, 1)),\n",
       " ((0, 0, 0), (0, 1, 0), (0, 1, 1), (1, 0, 0)),\n",
       " ((0, 0, 0), (0, 0, 1), (1, 0, 0), (1, 1, 0)),\n",
       " ((0, 0, 0), (0, 0, 1), (1, 0, 0), (1, 1, 1)),\n",
       " ((0, 0, 1), (0, 1, 0), (0, 1, 1), (1, 1, 0)),\n",
       " ((0, 1, 0), (1, 0, 1), (1, 1, 0), (1, 1, 1)),\n",
       " ((0, 1, 1), (1, 0, 0), (1, 0, 1), (1, 1, 0)),\n",
       " ((0, 1, 0), (0, 1, 1), (1, 0, 0), (1, 1, 1)),\n",
       " ((0, 0, 0), (0, 0, 1), (0, 1, 0), (1, 0, 0))]"
      ]
     },
     "execution_count": 5,
     "metadata": {},
     "output_type": "execute_result"
    }
   ],
   "source": [
    "train_partners"
   ]
  },
  {
   "cell_type": "code",
   "execution_count": 6,
   "metadata": {},
   "outputs": [
    {
     "data": {
      "text/plain": [
       "<matplotlib.colorbar.Colorbar at 0x7f3054fbf3d0>"
      ]
     },
     "execution_count": 6,
     "metadata": {},
     "output_type": "execute_result"
    },
    {
     "data": {
      "image/png": "[encoded data removed]",
      "text/plain": [
       "<Figure size 432x432 with 2 Axes>"
      ]
     },
     "metadata": {
      "needs_background": "light"
     },
     "output_type": "display_data"
    }
   ],
   "source": [
    "fig, ax = plt.subplots(figsize=(6,6))\n",
    "cax = ax.matshow(scores.mean(dim=-1), vmin=0, vmax=1)\n",
    "fig.colorbar(cax)"
   ]
  },
  {
   "cell_type": "code",
   "execution_count": null,
   "metadata": {},
   "outputs": [],
   "source": []
  }
 ],
 "metadata": {
  "kernelspec": {
   "display_name": "Python 3.9.12 64-bit ('torch')",
   "language": "python",
   "name": "python3"
  },
  "language_info": {
   "codemirror_mode": {
    "name": "ipython",
    "version": 3
   },
   "file_extension": ".py",
   "mimetype": "text/x-python",
   "name": "python",
   "nbconvert_exporter": "python",
   "pygments_lexer": "ipython3",
   "version": "3.9.12"
  },
  "orig_nbformat": 4,
  "vscode": {
   "interpreter": {
    "hash": "0da39f85071e8dc4a619b3f51e18c7a210d5ff72e9e22a4ce1dbec0af1e68dbf"
   }
  }
 },
 "nbformat": 4,
 "nbformat_minor": 2
}
