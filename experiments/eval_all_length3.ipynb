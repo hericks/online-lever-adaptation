{
 "cells": [
  {
   "cell_type": "code",
   "execution_count": 42,
   "metadata": {},
   "outputs": [],
   "source": [
    "from itertools import combinations\n",
    "from collections import deque\n",
    "\n",
    "import wandb\n",
    "import random\n",
    "import numpy as np\n",
    "import pandas as pd\n",
    "import matplotlib.pyplot as plt\n",
    "\n",
    "import torch\n",
    "import torch.nn as nn\n",
    "\n",
    "from levers import IteratedLeverEnvironment\n",
    "from levers.partners import FixedPatternPartner\n",
    "from levers.learner import DQNAgent, DRQNetwork, DRQNAgent, Transition\n",
    "from levers.helpers import generate_binary_patterns"
   ]
  },
  {
   "cell_type": "code",
   "execution_count": 2,
   "metadata": {},
   "outputs": [
    {
     "data": {
      "text/plain": [
       "<torch._C.Generator at 0x7f171e2c7ad0>"
      ]
     },
     "execution_count": 2,
     "metadata": {},
     "output_type": "execute_result"
    }
   ],
   "source": [
    "seed = 0\n",
    "random.seed(seed)\n",
    "np.random.seed(seed)\n",
    "torch.manual_seed(seed)"
   ]
  },
  {
   "cell_type": "markdown",
   "metadata": {},
   "source": [
    "## Helper Functions"
   ]
  },
  {
   "cell_type": "code",
   "execution_count": 3,
   "metadata": {},
   "outputs": [],
   "source": [
    "# Class with dot notation access similar to wandb.config\n",
    "class WandbDict(dict):\n",
    "    __getattr__ = dict.get\n",
    "    __setattr__ = dict.__setitem__\n",
    "    __delattr__ = dict.__delitem__"
   ]
  },
  {
   "cell_type": "code",
   "execution_count": 4,
   "metadata": {},
   "outputs": [],
   "source": [
    "def ODQL_agent_from_config(\n",
    "    env: IteratedLeverEnvironment, config: WandbDict\n",
    "):\n",
    "    # Create base class\n",
    "    hist_rep = nn.LSTM(\n",
    "        input_size=len(env.dummy_obs()),\n",
    "        hidden_size=config.hist_rep_dim\n",
    "    )\n",
    "    learner = DQNAgent(\n",
    "        q_net=nn.Sequential(\n",
    "            nn.Linear(config.hist_rep_dim, config.dqn_hidden_dim),\n",
    "            nn.ReLU(),\n",
    "            nn.Linear(config.dqn_hidden_dim, env.n_actions()),\n",
    "        ),\n",
    "        capacity=0,\n",
    "        batch_size=0,\n",
    "        lr=config.dqn_lr,\n",
    "        tau=config.dqn_tau,\n",
    "        len_update_cycle=config.dqn_len_update_cycle,\n",
    "        gamma=config.dqn_gamma,\n",
    "        use_running_memory=config.dqn_use_running_memory,\n",
    "    )\n",
    "\n",
    "    # Load parameters from disk\n",
    "    patterns = generate_binary_patterns(3)\n",
    "    train_configurations = list(combinations(patterns, 4))\n",
    "    train_patterns=train_configurations[config.exp_train_patterns_index]\n",
    "    train_seed=config.exp_train_seed\n",
    "\n",
    "    # Load history representation network's parameters\n",
    "    hist_rep_name = f\"odql_all_length3/models/hist-{train_patterns}-{train_seed}.pt\"\n",
    "    hist_rep.load_state_dict(torch.load(hist_rep_name))\n",
    "\n",
    "    # Load Q-network's parameters\n",
    "    q_net_name = f\"odql_all_length3/models/q-{train_patterns}-{train_seed}.pt\"\n",
    "    learner.q_net.load_state_dict(torch.load(q_net_name))\n",
    "\n",
    "    return hist_rep, learner"
   ]
  },
  {
   "cell_type": "code",
   "execution_count": 5,
   "metadata": {},
   "outputs": [],
   "source": [
    "def DRQN_agent_from_config(\n",
    "    env: IteratedLeverEnvironment, config: WandbDict\n",
    "):\n",
    "    # Load base class\n",
    "    learner = DRQNAgent(\n",
    "        q_net=DRQNetwork(\n",
    "            rnn=nn.LSTM(\n",
    "                input_size=len(env.dummy_obs()),\n",
    "                hidden_size=config.drqn_rnn_hidden_dim,\n",
    "                batch_first=True,\n",
    "            ),\n",
    "            fnn=nn.Sequential(\n",
    "                nn.Linear(\n",
    "                    in_features=config.drqn_rnn_hidden_dim,\n",
    "                    out_features=config.drqn_fnn_hidden_dim,\n",
    "                ),\n",
    "                nn.ReLU(),\n",
    "                nn.Linear(\n",
    "                    in_features=config.drqn_fnn_hidden_dim,\n",
    "                    out_features=env.n_actions(),\n",
    "                ),\n",
    "            ),\n",
    "        ),\n",
    "        capacity=config.drqn_capacity,\n",
    "        batch_size=config.drqn_batch_size,\n",
    "        lr=config.drqn_lr,\n",
    "        tau=config.drqn_tau,\n",
    "        gamma=config.drqn_gamma,\n",
    "        len_update_cycle=config.drqn_len_update_cycle,\n",
    "    )\n",
    "\n",
    "    # Load parameters from disk\n",
    "    patterns = generate_binary_patterns(3)\n",
    "    train_configurations = list(combinations(patterns, 4))\n",
    "    train_patterns=train_configurations[config.exp_train_patterns_index]\n",
    "    train_seed=config.exp_train_seed\n",
    "\n",
    "    # Load Q-network's parameters\n",
    "    drqn_name = f\"drqn_all_length3/models/q-{train_patterns}-{train_seed}.pt\"\n",
    "    learner.q_net.load_state_dict(torch.load(drqn_name))\n",
    "\n",
    "    return learner"
   ]
  },
  {
   "cell_type": "code",
   "execution_count": 6,
   "metadata": {},
   "outputs": [],
   "source": [
    "def eval_ODQL_learner(config, env, eps_start, eps_n_decay_steps):\n",
    "    hist_rep, learner = ODQL_agent_from_config(env, config)\n",
    "\n",
    "    # Prepare stats\n",
    "    epi_return, epi_greedy_return, epi_n_greedy_steps = 0, 0, 0\n",
    "    last_actions = deque(maxlen=4)\n",
    "\n",
    "    # Reset environment and learner\n",
    "    learner.reset()\n",
    "    obs = env.reset()\n",
    "    obs_rep, hidden = hist_rep(obs.unsqueeze(0))\n",
    "    for step in range(env.episode_length - 1):\n",
    "        eps = eps_start * max(1 - step / eps_n_decay_steps, 0)\n",
    "        action, greedy = learner.act(obs_rep.squeeze(0), eps)\n",
    "        next_obs, reward, done = env.step(action)\n",
    "        next_obs_rep, next_hidden = hist_rep(next_obs.unsqueeze(0), hidden)\n",
    "        learner.update_memory(\n",
    "            Transition(\n",
    "                obs_rep.squeeze(0).detach(),\n",
    "                action,\n",
    "                next_obs_rep.squeeze(0).detach(),\n",
    "                reward,\n",
    "                done,\n",
    "            )\n",
    "        )\n",
    "        learner.train()\n",
    "        epi_return += reward\n",
    "        epi_greedy_return += reward if greedy else 0\n",
    "        epi_n_greedy_steps += 1 if greedy else 0\n",
    "        last_actions.append(action if greedy else -1)\n",
    "        obs_rep = next_obs_rep\n",
    "        hidden = next_hidden\n",
    "\n",
    "    \n",
    "    return {\n",
    "        'return': epi_return,\n",
    "        'normalized_greedy_return': epi_greedy_return / epi_n_greedy_steps * 100,\n",
    "        'greedy_return': epi_greedy_return,\n",
    "        'n_greedy_steps': epi_n_greedy_steps,\n",
    "        'last_actions': last_actions\n",
    "    }"
   ]
  },
  {
   "cell_type": "code",
   "execution_count": 7,
   "metadata": {},
   "outputs": [],
   "source": [
    "def eval_DRQN_learner(config, env):\n",
    "    learner = DRQN_agent_from_config(env, config)\n",
    "\n",
    "    # Prepare stats\n",
    "    epi_return = 0\n",
    "    last_actions = deque(maxlen=4)\n",
    "\n",
    "    # Reset environment and learner\n",
    "    obs = env.reset()\n",
    "    learner.reset_new_episode(init_obs=obs)\n",
    "    for _ in range(env.episode_length - 1):\n",
    "        action = learner.act(obs)\n",
    "        last_actions.append(action)\n",
    "        next_obs, reward, done = env.step(action)\n",
    "        obs = next_obs\n",
    "        epi_return += reward\n",
    "\n",
    "    return {\n",
    "        'return': epi_return,\n",
    "        'last_actions': last_actions\n",
    "    }"
   ]
  },
  {
   "cell_type": "code",
   "execution_count": 8,
   "metadata": {},
   "outputs": [],
   "source": [
    "def eval_ODQL_crossplay(config1, config2, eps_start, eps_n_decay_steps):\n",
    "    env = IteratedLeverEnvironment(\n",
    "        payoffs=[1., 1.0],\n",
    "        n_iterations=100+1,\n",
    "        include_step=False,\n",
    "        include_payoffs=False,\n",
    "    )\n",
    "\n",
    "    hist_rep1, agent1 = ODQL_agent_from_config(env, config1)\n",
    "    hist_rep2, agent2 = ODQL_agent_from_config(env, config2)\n",
    "\n",
    "    # Prepare stats\n",
    "    epi_return, epi_greedy_return, epi_n_greedy_steps = 0, 0, 0\n",
    "    last_actions = deque(maxlen=4)\n",
    "\n",
    "    joint_obs = env.reset()\n",
    "\n",
    "    agent1.reset()\n",
    "    agent2.reset()\n",
    "\n",
    "    obs_rep1, hidden1 = hist_rep1(joint_obs[0].unsqueeze(0))\n",
    "    obs_rep2, hidden2 = hist_rep2(joint_obs[1].unsqueeze(0))\n",
    "\n",
    "    for step in range(env.episode_length - 1):\n",
    "        # Get agents' actions\n",
    "        eps = eps_start * max(1 - step / eps_n_decay_steps, 0)\n",
    "        action1, greedy1 = agent1.act(obs_rep1.squeeze(0), eps)\n",
    "        action2, greedy2 = agent2.act(obs_rep2.squeeze(0), eps)\n",
    "\n",
    "        next_joint_obs, reward, done = env.step([action1, action2])\n",
    "\n",
    "        next_obs_rep1, hidden1 = hist_rep1(next_joint_obs[0].unsqueeze(0), hidden1)\n",
    "        next_obs_rep2, hidden2 = hist_rep2(next_joint_obs[1].unsqueeze(0), hidden2)\n",
    "\n",
    "        # Train agent 1\n",
    "        agent1.update_memory(\n",
    "            Transition(\n",
    "                obs_rep1.squeeze(0).detach(),\n",
    "                action1,\n",
    "                next_obs_rep1.squeeze(0).detach(),\n",
    "                reward,\n",
    "                done,\n",
    "            )\n",
    "        )\n",
    "        agent1.train()\n",
    "\n",
    "        # Train agent 2\n",
    "        agent2.update_memory(\n",
    "            Transition(\n",
    "                obs_rep2.squeeze(0).detach(),\n",
    "                action2,\n",
    "                next_obs_rep2.squeeze(0).detach(),\n",
    "                reward,\n",
    "                done,\n",
    "            )\n",
    "        )\n",
    "        agent2.train()\n",
    "\n",
    "        # Update stats\n",
    "        epi_return += reward\n",
    "        epi_greedy_return += reward if greedy1 and greedy2 else 0\n",
    "        epi_n_greedy_steps += 1 if greedy1 and greedy2 else 0\n",
    "\n",
    "        # Prepare next step\n",
    "        obs_rep1 = next_obs_rep1\n",
    "        obs_rep2 = next_obs_rep2\n",
    "\n",
    "    return {\n",
    "        'return': epi_return,\n",
    "        'normalized_greedy_return': epi_greedy_return / epi_n_greedy_steps * 100,\n",
    "        'greedy_return': epi_greedy_return,\n",
    "        'n_greedy_steps': epi_n_greedy_steps,\n",
    "        'last_actions': last_actions\n",
    "    }\n",
    "\n",
    "    "
   ]
  },
  {
   "cell_type": "markdown",
   "metadata": {},
   "source": [
    "## General Setup"
   ]
  },
  {
   "cell_type": "code",
   "execution_count": 9,
   "metadata": {},
   "outputs": [],
   "source": [
    "patterns = generate_binary_patterns(3)\n",
    "train_configurations = list(combinations(patterns, 4))\n",
    "\n",
    "envs = [\n",
    "    IteratedLeverEnvironment(\n",
    "        payoffs=[1., 1.],\n",
    "        n_iterations=100 + 1,\n",
    "        partner=FixedPatternPartner(pattern),\n",
    "        include_step=False,\n",
    "        include_payoffs=False,\n",
    "    )\n",
    "    for pattern in patterns\n",
    "]"
   ]
  },
  {
   "cell_type": "markdown",
   "metadata": {},
   "source": [
    "## ODQL Agent Evaluation"
   ]
  },
  {
   "cell_type": "code",
   "execution_count": null,
   "metadata": {},
   "outputs": [],
   "source": [
    "api = wandb.Api(timeout=60)\n",
    "\n",
    "# Obtain runs from ODQL parameter sweep\n",
    "runs = api.runs(\"hericks/odql-all-length3\")\n",
    "\n",
    "# Obtain parameter configs for each run\n",
    "configs = []\n",
    "for run in runs: \n",
    "    config = {k:v for k,v in run.config.items() if not k.startswith('_')}\n",
    "    configs.append(WandbDict(config))\n",
    "\n",
    "# Obtain number of training seeds per configuration\n",
    "n_train_seeds = max([config.exp_train_seed for config in configs]) + 1\n",
    "print(f\"The ODQL agents were trained for {n_train_seeds} different seeds each.\")"
   ]
  },
  {
   "cell_type": "code",
   "execution_count": null,
   "metadata": {},
   "outputs": [],
   "source": [
    "results_list = []\n",
    "for config_index, config in enumerate(configs):\n",
    "    if (config_index + 1) % 200 == 0:\n",
    "        print(config_index + 1)\n",
    "    for eval_index, eval_pattern in enumerate(patterns):\n",
    "        results = eval_ODQL_learner(\n",
    "            config=config,\n",
    "            env=envs[eval_index],\n",
    "            eps_start=1.0,\n",
    "            eps_n_decay_steps=33,\n",
    "        )\n",
    "        results.update({\n",
    "            'method': 'ODQL',\n",
    "            'train_patterns': train_configurations[config.exp_train_patterns_index],\n",
    "            'train_seed': config.exp_train_seed,\n",
    "            'eval_pattern': eval_pattern,\n",
    "            'seen_at_train_time': eval_pattern in train_configurations[config.exp_train_patterns_index],\n",
    "        })\n",
    "        results_list.append(results)\n",
    "\n",
    "odql_results_df = pd.DataFrame(results_list)"
   ]
  },
  {
   "cell_type": "code",
   "execution_count": null,
   "metadata": {},
   "outputs": [],
   "source": [
    "odql_results_df = odql_results_df[['method', 'train_patterns', 'train_seed', 'eval_pattern', 'seen_at_train_time', 'return', 'normalized_greedy_return', 'greedy_return', 'n_greedy_steps', 'last_actions']]\n",
    "odql_results_df"
   ]
  },
  {
   "cell_type": "code",
   "execution_count": null,
   "metadata": {},
   "outputs": [],
   "source": [
    "train = odql_results_df['seen_at_train_time']\n",
    "print(f\"Overall: {odql_results_df['return'].mean():.2f} | {odql_results_df['normalized_greedy_return'].mean():.2f}\")\n",
    "print(f\"Train: {odql_results_df[train]['return'].mean():.2f} | {odql_results_df[train]['normalized_greedy_return'].mean():.2f}\")\n",
    "print(f\"Test: {odql_results_df[~train]['return'].mean():.2f} | {odql_results_df[~train]['normalized_greedy_return'].mean():.2f}\")"
   ]
  },
  {
   "cell_type": "markdown",
   "metadata": {},
   "source": [
    "\n",
    "## DRQN Agent Evaluation"
   ]
  },
  {
   "cell_type": "code",
   "execution_count": null,
   "metadata": {},
   "outputs": [],
   "source": [
    "api = wandb.Api(timeout=60)\n",
    "\n",
    "# Obtain runs from ODQL parameter sweep\n",
    "runs = api.runs(\"hericks/drqn-all-length3\")\n",
    "\n",
    "# Obtain parameter configs for each run\n",
    "configs = []\n",
    "for run in runs: \n",
    "    config = {k:v for k,v in run.config.items() if not k.startswith('_')}\n",
    "    configs.append(WandbDict(config))\n",
    "\n",
    "# Obtain number of training seeds per configuration\n",
    "n_train_seeds = max([config.exp_train_seed for config in configs]) + 1\n",
    "print(f\"The DRQN agents were trained for {n_train_seeds} different seeds each.\")"
   ]
  },
  {
   "cell_type": "code",
   "execution_count": null,
   "metadata": {},
   "outputs": [],
   "source": [
    "results_list = []\n",
    "for config_index, config in enumerate(configs):\n",
    "    if (config_index + 1) % 200 == 0:\n",
    "        print(config_index + 1)\n",
    "    for eval_index, eval_pattern in enumerate(patterns):\n",
    "        try:\n",
    "            results = eval_DRQN_learner(\n",
    "                config=config,\n",
    "                env=envs[eval_index],\n",
    "            )\n",
    "            results.update({\n",
    "                'method': 'DRQN',\n",
    "                'train_patterns': train_configurations[config.exp_train_patterns_index],\n",
    "                'train_seed': config.exp_train_seed,\n",
    "                'eval_pattern': eval_pattern,\n",
    "                'seen_at_train_time': eval_pattern in train_configurations[config.exp_train_patterns_index],\n",
    "            })\n",
    "            results_list.append(results)\n",
    "        except:\n",
    "            pass\n",
    "\n",
    "drqn_results_df = pd.DataFrame(results_list)"
   ]
  },
  {
   "cell_type": "code",
   "execution_count": null,
   "metadata": {},
   "outputs": [],
   "source": [
    "drqn_results_df = drqn_results_df[['method', 'train_patterns', 'train_seed', 'eval_pattern', 'seen_at_train_time', 'return', 'last_actions']]\n",
    "drqn_results_df"
   ]
  },
  {
   "cell_type": "code",
   "execution_count": null,
   "metadata": {},
   "outputs": [],
   "source": [
    "train = drqn_results_df['seen_at_train_time']\n",
    "print(f\"Overall: {drqn_results_df['return'].mean():.2f}\")\n",
    "print(f\"Train: {drqn_results_df[train]['return'].mean():.2f}\")\n",
    "print(f\"Test: {drqn_results_df[~train]['return'].mean():.2f}\")"
   ]
  },
  {
   "cell_type": "markdown",
   "metadata": {},
   "source": [
    "## Joint Visualization"
   ]
  },
  {
   "cell_type": "markdown",
   "metadata": {},
   "source": [
    "## Prepare Crossplay Analysis"
   ]
  },
  {
   "cell_type": "code",
   "execution_count": 31,
   "metadata": {},
   "outputs": [],
   "source": [
    "patterns = generate_binary_patterns(3)\n",
    "all_train_configurations = list(combinations(patterns, 4))\n",
    "n_train_configurations = len(all_train_configurations)\n",
    "\n",
    "n_xplay = 15\n",
    "xplay_train_configurations_indices = random.sample(range(n_train_configurations), n_xplay)"
   ]
  },
  {
   "cell_type": "markdown",
   "metadata": {},
   "source": [
    "## ODQL Crossplay Analysis"
   ]
  },
  {
   "cell_type": "code",
   "execution_count": 32,
   "metadata": {},
   "outputs": [],
   "source": [
    "api = wandb.Api(timeout=60)\n",
    "\n",
    "needed_dict = {\n",
    "    i: False if i not in xplay_train_configurations_indices else True\n",
    "    for i in range(n_train_configurations)\n",
    "}\n",
    "\n",
    "# Obtain runs from ODQL parameter sweep\n",
    "runs = api.runs(\"hericks/odql-all-length3\")\n",
    "\n",
    "# Obtain parameter configs for each run\n",
    "crossplay_configs = []\n",
    "for run in runs: \n",
    "    config = WandbDict({k:v for k,v in run.config.items() if not k.startswith('_')})\n",
    "    if needed_dict[config.exp_train_patterns_index]:\n",
    "        crossplay_configs.append(WandbDict(config))\n",
    "        needed_dict[config.exp_train_patterns_index] = False\n"
   ]
  },
  {
   "cell_type": "code",
   "execution_count": 58,
   "metadata": {},
   "outputs": [
    {
     "name": "stdout",
     "output_type": "stream",
     "text": [
      "5\n",
      "10\n",
      "15\n"
     ]
    }
   ],
   "source": [
    "rows_list = []\n",
    "for i in range(n_xplay):\n",
    "    if (i + 1) % 5 == 0:\n",
    "        print(i + 1)\n",
    "    for j in range(n_xplay):\n",
    "        res = eval_ODQL_crossplay(crossplay_configs[0], crossplay_configs[1], 0.5, 30)\n",
    "        res.update({\n",
    "            \"i1\": i,\n",
    "            \"i2\": j,\n",
    "            \"i1_train_patterns\": all_train_configurations[crossplay_configs[i].exp_train_patterns_index],\n",
    "            \"i2_train_patterns\": all_train_configurations[crossplay_configs[j].exp_train_patterns_index],\n",
    "        })\n",
    "        rows_list.append(res)\n",
    "\n",
    "odql_xplay_df = pd.DataFrame(rows_list)\n",
    "odql_xplay_df = odql_xplay_df[['i1', 'i2', 'i1_train_patterns', 'i2_train_patterns', 'return', 'normalized_greedy_return', 'greedy_return', 'n_greedy_steps', 'last_actions']]"
   ]
  },
  {
   "cell_type": "code",
   "execution_count": 59,
   "metadata": {},
   "outputs": [
    {
     "data": {
      "text/html": [
       "<div>\n",
       "<style scoped>\n",
       "    .dataframe tbody tr th:only-of-type {\n",
       "        vertical-align: middle;\n",
       "    }\n",
       "\n",
       "    .dataframe tbody tr th {\n",
       "        vertical-align: top;\n",
       "    }\n",
       "\n",
       "    .dataframe thead th {\n",
       "        text-align: right;\n",
       "    }\n",
       "</style>\n",
       "<table border=\"1\" class=\"dataframe\">\n",
       "  <thead>\n",
       "    <tr style=\"text-align: right;\">\n",
       "      <th></th>\n",
       "      <th>i1</th>\n",
       "      <th>i2</th>\n",
       "      <th>i1_train_patterns</th>\n",
       "      <th>i2_train_patterns</th>\n",
       "      <th>return</th>\n",
       "      <th>normalized_greedy_return</th>\n",
       "      <th>greedy_return</th>\n",
       "      <th>n_greedy_steps</th>\n",
       "      <th>last_actions</th>\n",
       "    </tr>\n",
       "  </thead>\n",
       "  <tbody>\n",
       "    <tr>\n",
       "      <th>0</th>\n",
       "      <td>0</td>\n",
       "      <td>0</td>\n",
       "      <td>((1, 0, 0), (1, 0, 1), (1, 1, 0), (1, 1, 1))</td>\n",
       "      <td>((1, 0, 0), (1, 0, 1), (1, 1, 0), (1, 1, 1))</td>\n",
       "      <td>70.0</td>\n",
       "      <td>71.910112</td>\n",
       "      <td>64.0</td>\n",
       "      <td>89</td>\n",
       "      <td>[]</td>\n",
       "    </tr>\n",
       "    <tr>\n",
       "      <th>1</th>\n",
       "      <td>0</td>\n",
       "      <td>1</td>\n",
       "      <td>((1, 0, 0), (1, 0, 1), (1, 1, 0), (1, 1, 1))</td>\n",
       "      <td>((0, 1, 1), (1, 0, 1), (1, 1, 0), (1, 1, 1))</td>\n",
       "      <td>52.0</td>\n",
       "      <td>52.325581</td>\n",
       "      <td>45.0</td>\n",
       "      <td>86</td>\n",
       "      <td>[]</td>\n",
       "    </tr>\n",
       "    <tr>\n",
       "      <th>2</th>\n",
       "      <td>0</td>\n",
       "      <td>2</td>\n",
       "      <td>((1, 0, 0), (1, 0, 1), (1, 1, 0), (1, 1, 1))</td>\n",
       "      <td>((0, 1, 0), (1, 0, 0), (1, 0, 1), (1, 1, 0))</td>\n",
       "      <td>96.0</td>\n",
       "      <td>98.888889</td>\n",
       "      <td>89.0</td>\n",
       "      <td>90</td>\n",
       "      <td>[]</td>\n",
       "    </tr>\n",
       "    <tr>\n",
       "      <th>3</th>\n",
       "      <td>0</td>\n",
       "      <td>3</td>\n",
       "      <td>((1, 0, 0), (1, 0, 1), (1, 1, 0), (1, 1, 1))</td>\n",
       "      <td>((0, 1, 0), (0, 1, 1), (1, 1, 0), (1, 1, 1))</td>\n",
       "      <td>90.0</td>\n",
       "      <td>98.837209</td>\n",
       "      <td>85.0</td>\n",
       "      <td>86</td>\n",
       "      <td>[]</td>\n",
       "    </tr>\n",
       "    <tr>\n",
       "      <th>4</th>\n",
       "      <td>0</td>\n",
       "      <td>4</td>\n",
       "      <td>((1, 0, 0), (1, 0, 1), (1, 1, 0), (1, 1, 1))</td>\n",
       "      <td>((0, 0, 1), (0, 1, 1), (1, 1, 0), (1, 1, 1))</td>\n",
       "      <td>87.0</td>\n",
       "      <td>94.047619</td>\n",
       "      <td>79.0</td>\n",
       "      <td>84</td>\n",
       "      <td>[]</td>\n",
       "    </tr>\n",
       "    <tr>\n",
       "      <th>...</th>\n",
       "      <td>...</td>\n",
       "      <td>...</td>\n",
       "      <td>...</td>\n",
       "      <td>...</td>\n",
       "      <td>...</td>\n",
       "      <td>...</td>\n",
       "      <td>...</td>\n",
       "      <td>...</td>\n",
       "      <td>...</td>\n",
       "    </tr>\n",
       "    <tr>\n",
       "      <th>220</th>\n",
       "      <td>14</td>\n",
       "      <td>10</td>\n",
       "      <td>((0, 0, 0), (0, 0, 1), (0, 1, 0), (0, 1, 1))</td>\n",
       "      <td>((0, 0, 0), (0, 0, 1), (1, 0, 1), (1, 1, 1))</td>\n",
       "      <td>83.0</td>\n",
       "      <td>85.542169</td>\n",
       "      <td>71.0</td>\n",
       "      <td>83</td>\n",
       "      <td>[]</td>\n",
       "    </tr>\n",
       "    <tr>\n",
       "      <th>221</th>\n",
       "      <td>14</td>\n",
       "      <td>11</td>\n",
       "      <td>((0, 0, 0), (0, 0, 1), (0, 1, 0), (0, 1, 1))</td>\n",
       "      <td>((0, 0, 0), (0, 0, 1), (0, 1, 1), (1, 0, 1))</td>\n",
       "      <td>89.0</td>\n",
       "      <td>92.222222</td>\n",
       "      <td>83.0</td>\n",
       "      <td>90</td>\n",
       "      <td>[]</td>\n",
       "    </tr>\n",
       "    <tr>\n",
       "      <th>222</th>\n",
       "      <td>14</td>\n",
       "      <td>12</td>\n",
       "      <td>((0, 0, 0), (0, 0, 1), (0, 1, 0), (0, 1, 1))</td>\n",
       "      <td>((0, 0, 0), (0, 0, 1), (0, 1, 0), (1, 1, 1))</td>\n",
       "      <td>94.0</td>\n",
       "      <td>98.863636</td>\n",
       "      <td>87.0</td>\n",
       "      <td>88</td>\n",
       "      <td>[]</td>\n",
       "    </tr>\n",
       "    <tr>\n",
       "      <th>223</th>\n",
       "      <td>14</td>\n",
       "      <td>13</td>\n",
       "      <td>((0, 0, 0), (0, 0, 1), (0, 1, 0), (0, 1, 1))</td>\n",
       "      <td>((0, 0, 0), (0, 0, 1), (0, 1, 0), (1, 0, 0))</td>\n",
       "      <td>63.0</td>\n",
       "      <td>64.772727</td>\n",
       "      <td>57.0</td>\n",
       "      <td>88</td>\n",
       "      <td>[]</td>\n",
       "    </tr>\n",
       "    <tr>\n",
       "      <th>224</th>\n",
       "      <td>14</td>\n",
       "      <td>14</td>\n",
       "      <td>((0, 0, 0), (0, 0, 1), (0, 1, 0), (0, 1, 1))</td>\n",
       "      <td>((0, 0, 0), (0, 0, 1), (0, 1, 0), (0, 1, 1))</td>\n",
       "      <td>89.0</td>\n",
       "      <td>93.258427</td>\n",
       "      <td>83.0</td>\n",
       "      <td>89</td>\n",
       "      <td>[]</td>\n",
       "    </tr>\n",
       "  </tbody>\n",
       "</table>\n",
       "<p>225 rows × 9 columns</p>\n",
       "</div>"
      ],
      "text/plain": [
       "     i1  i2                             i1_train_patterns  \\\n",
       "0     0   0  ((1, 0, 0), (1, 0, 1), (1, 1, 0), (1, 1, 1))   \n",
       "1     0   1  ((1, 0, 0), (1, 0, 1), (1, 1, 0), (1, 1, 1))   \n",
       "2     0   2  ((1, 0, 0), (1, 0, 1), (1, 1, 0), (1, 1, 1))   \n",
       "3     0   3  ((1, 0, 0), (1, 0, 1), (1, 1, 0), (1, 1, 1))   \n",
       "4     0   4  ((1, 0, 0), (1, 0, 1), (1, 1, 0), (1, 1, 1))   \n",
       "..   ..  ..                                           ...   \n",
       "220  14  10  ((0, 0, 0), (0, 0, 1), (0, 1, 0), (0, 1, 1))   \n",
       "221  14  11  ((0, 0, 0), (0, 0, 1), (0, 1, 0), (0, 1, 1))   \n",
       "222  14  12  ((0, 0, 0), (0, 0, 1), (0, 1, 0), (0, 1, 1))   \n",
       "223  14  13  ((0, 0, 0), (0, 0, 1), (0, 1, 0), (0, 1, 1))   \n",
       "224  14  14  ((0, 0, 0), (0, 0, 1), (0, 1, 0), (0, 1, 1))   \n",
       "\n",
       "                                i2_train_patterns  return  \\\n",
       "0    ((1, 0, 0), (1, 0, 1), (1, 1, 0), (1, 1, 1))    70.0   \n",
       "1    ((0, 1, 1), (1, 0, 1), (1, 1, 0), (1, 1, 1))    52.0   \n",
       "2    ((0, 1, 0), (1, 0, 0), (1, 0, 1), (1, 1, 0))    96.0   \n",
       "3    ((0, 1, 0), (0, 1, 1), (1, 1, 0), (1, 1, 1))    90.0   \n",
       "4    ((0, 0, 1), (0, 1, 1), (1, 1, 0), (1, 1, 1))    87.0   \n",
       "..                                            ...     ...   \n",
       "220  ((0, 0, 0), (0, 0, 1), (1, 0, 1), (1, 1, 1))    83.0   \n",
       "221  ((0, 0, 0), (0, 0, 1), (0, 1, 1), (1, 0, 1))    89.0   \n",
       "222  ((0, 0, 0), (0, 0, 1), (0, 1, 0), (1, 1, 1))    94.0   \n",
       "223  ((0, 0, 0), (0, 0, 1), (0, 1, 0), (1, 0, 0))    63.0   \n",
       "224  ((0, 0, 0), (0, 0, 1), (0, 1, 0), (0, 1, 1))    89.0   \n",
       "\n",
       "     normalized_greedy_return  greedy_return  n_greedy_steps last_actions  \n",
       "0                   71.910112           64.0              89           []  \n",
       "1                   52.325581           45.0              86           []  \n",
       "2                   98.888889           89.0              90           []  \n",
       "3                   98.837209           85.0              86           []  \n",
       "4                   94.047619           79.0              84           []  \n",
       "..                        ...            ...             ...          ...  \n",
       "220                 85.542169           71.0              83           []  \n",
       "221                 92.222222           83.0              90           []  \n",
       "222                 98.863636           87.0              88           []  \n",
       "223                 64.772727           57.0              88           []  \n",
       "224                 93.258427           83.0              89           []  \n",
       "\n",
       "[225 rows x 9 columns]"
      ]
     },
     "execution_count": 59,
     "metadata": {},
     "output_type": "execute_result"
    }
   ],
   "source": [
    "odql_xplay_df"
   ]
  },
  {
   "cell_type": "code",
   "execution_count": 61,
   "metadata": {},
   "outputs": [
    {
     "name": "stdout",
     "output_type": "stream",
     "text": [
      "ODQL Crossplay: 83.51 | 88.54 (greedy)\n"
     ]
    }
   ],
   "source": [
    "print(f\"ODQL Crossplay: {odql_xplay_df['return'].mean():.2f} | {odql_xplay_df['normalized_greedy_return'].mean():.2f} (greedy)\")"
   ]
  },
  {
   "cell_type": "code",
   "execution_count": 62,
   "metadata": {},
   "outputs": [],
   "source": [
    "odql_xplay_returns_matrix = np.zeros((n_xplay, n_xplay))\n",
    "odql_xplay_normalized_greedy_returns_matrix = np.zeros((n_xplay, n_xplay))\n",
    "for i in range(n_xplay):\n",
    "    for j in range(n_xplay):\n",
    "        row_mask = (odql_xplay_df['i1'] == i) & (odql_xplay_df['i2'] == j)\n",
    "        odql_xplay_returns_matrix[i, j] = odql_xplay_df[row_mask]['return'].item()\n",
    "        odql_xplay_normalized_greedy_returns_matrix[i, j] = odql_xplay_df[row_mask]['normalized_greedy_return'].item()"
   ]
  },
  {
   "cell_type": "code",
   "execution_count": 65,
   "metadata": {},
   "outputs": [
    {
     "data": {
      "text/plain": [
       "<matplotlib.image.AxesImage at 0x7f1713a62820>"
      ]
     },
     "execution_count": 65,
     "metadata": {},
     "output_type": "execute_result"
    },
    {
     "data": {
      "image/png": "[encoded data removed]",
      "text/plain": [
       "<Figure size 288x288 with 1 Axes>"
      ]
     },
     "metadata": {
      "needs_background": "light"
     },
     "output_type": "display_data"
    }
   ],
   "source": [
    "plt.matshow(odql_xplay_returns_matrix)"
   ]
  },
  {
   "cell_type": "code",
   "execution_count": 66,
   "metadata": {},
   "outputs": [
    {
     "data": {
      "text/plain": [
       "<matplotlib.image.AxesImage at 0x7f17139dc700>"
      ]
     },
     "execution_count": 66,
     "metadata": {},
     "output_type": "execute_result"
    },
    {
     "data": {
      "image/png": "[encoded data removed]",
      "text/plain": [
       "<Figure size 288x288 with 1 Axes>"
      ]
     },
     "metadata": {
      "needs_background": "light"
     },
     "output_type": "display_data"
    }
   ],
   "source": [
    "plt.matshow(odql_xplay_normalized_greedy_returns_matrix)"
   ]
  },
  {
   "cell_type": "markdown",
   "metadata": {},
   "source": [
    "## Miscellaneous"
   ]
  },
  {
   "cell_type": "markdown",
   "metadata": {},
   "source": [
    "def test(eps_start, eps_n_decay_steps):\n",
    "    results_list = []\n",
    "    for config_index, config in enumerate(configs):\n",
    "        if (config_index + 1) % 50 == 0:\n",
    "            print(config_index + 1)\n",
    "        for eval_index, eval_pattern in enumerate(patterns):\n",
    "            results = eval_ODQL_learner(\n",
    "                train_patterns=train_configurations[config.exp_train_patterns_index],\n",
    "                train_seed=config.exp_train_seed,\n",
    "                config=config,\n",
    "                env=envs[eval_index],\n",
    "                eps_start=eps_start,\n",
    "                eps_n_decay_steps=eps_n_decay_steps,\n",
    "            )\n",
    "            results.update({\n",
    "                'method': 'ODQL',\n",
    "                'train_patterns': train_configurations[config.exp_train_patterns_index],\n",
    "                'train_seed': config.exp_train_seed,\n",
    "                'eval_pattern': eval_pattern,\n",
    "                'seen_at_train_time': eval_pattern in train_configurations[config.exp_train_patterns_index],\n",
    "            })\n",
    "            results_list.append(results)\n",
    "\n",
    "        if config_index > 50:\n",
    "            break\n",
    "\n",
    "    odql_results_df = pd.DataFrame(results_list)\n",
    "    odql_results_df = odql_results_df[['method', 'train_patterns', 'train_seed', 'eval_pattern', 'seen_at_train_time', 'return', 'normalized_greedy_return', 'greedy_return', 'n_greedy_steps', 'last_actions']]\n",
    "    train = odql_results_df['seen_at_train_time']\n",
    "    print(f\"Overall: {odql_results_df['return'].mean():.2f} | {odql_results_df['normalized_greedy_return'].mean():.2f}\")\n",
    "    print(f\"Train: {odql_results_df[train]['return'].mean():.2f} | {odql_results_df[train]['normalized_greedy_return'].mean():.2f}\")\n",
    "    print(f\"Test: {odql_results_df[~train]['return'].mean():.2f} | {odql_results_df[~train]['normalized_greedy_return'].mean():.2f}\")\n",
    "    print(\"\")\n",
    "\n",
    "\n",
    "params = [\n",
    "    (1.0, 10), (1.0, 20), (1.0, 30), (1.0, 40), (1.0, 50),\n",
    "    (0.5, 10), (0.5, 20), (0.5, 30), (0.5, 40), (0.5, 50),\n",
    "]\n",
    "for param in params:\n",
    "    print(param[0], param[1])\n",
    "    test(param[0], param[1])"
   ]
  }
 ],
 "metadata": {
  "kernelspec": {
   "display_name": "Python 3.9.12 64-bit ('evotorch')",
   "language": "python",
   "name": "python3"
  },
  "language_info": {
   "codemirror_mode": {
    "name": "ipython",
    "version": 3
   },
   "file_extension": ".py",
   "mimetype": "text/x-python",
   "name": "python",
   "nbconvert_exporter": "python",
   "pygments_lexer": "ipython3",
   "version": "3.9.12"
  },
  "orig_nbformat": 4,
  "vscode": {
   "interpreter": {
    "hash": "93fe7ab9e9c894208fb85df19994ba2ccb8ea74b824756365ece5b2ab999c742"
   }
  }
 },
 "nbformat": 4,
 "nbformat_minor": 2
}
